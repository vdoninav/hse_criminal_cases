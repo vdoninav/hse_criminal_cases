{
 "cells": [
  {
   "cell_type": "code",
   "execution_count": 1,
   "id": "initial_id",
   "metadata": {
    "collapsed": true,
    "ExecuteTime": {
     "end_time": "2024-02-08T01:10:29.535558Z",
     "start_time": "2024-02-08T01:10:23.081041Z"
    }
   },
   "outputs": [],
   "source": [
    "import fastai\n",
    "from fastai import *\n",
    "from fastai.text.all import *\n",
    "import pandas as pd\n",
    "import numpy as np\n",
    "from functools import partial\n",
    "import io\n",
    "import os"
   ]
  },
  {
   "cell_type": "code",
   "execution_count": 22,
   "outputs": [
    {
     "data": {
      "text/plain": "                                                                                                                                                                                                                                                                                                                                                                                                                                                                                                                                                                                                                      text  \\\n0  \\r\\n\\r\\n\\t       \\tРешение по гражданскому делу\\r\\n      \\t\\n\\n    Дело № 2-442\\13 Р Е Ш Е Н И Е ИМЕНЕМ РОССИЙСКОЙ ФЕДЕРАЦИИ г.Воронеж 29.04.2013 года Мировой судья судебного участка № 1 Советского района г.Воронежа Марычева И.В., с участием истца Шелепаевой Т.Я., при секретаре Ушаковой Д.Ю., рассмотрев в открытом судебном заседании в помещении судебного участка по адресу г.Воронеж, ул.Героев Сибиряков-46, гражданское дело по иску Шелепаевой<ФИО1> к Подгорновой <ФИО2> о возмещении убытков, причиненных залитием квартиры, и взыскании судебных расходов,\\n\\n                   У С Т А Н О В И Л...   \n1  \\r\\n\\r\\n\\t       \\tРешение по гражданскому делу\\r\\n      \\t\\n\\n\\nДело № 2-2445/13\\nО П Р Е Д Е Л Е Н И Е\\n\\nг. Петропавловск-Камчатский 28 марта 2013 года\\n\\nМировой судья судебного участка № 10 Камчатского края Видьма О.В., при секретаре Кокориной К.Ю., рассмотрев в открытом судебном заседании гражданское дело по иску ОАО «Камчатскэнерго» к Шариповой <ФИО1> о взыскании задолженности по оплате за коммунальные услуги,\\nУСТАНОВИЛ:\\n\\nИстец обратился к мировому судье с иском к ответчику о взыскании  задолженности по оплате за коммунальные услуги. Исковые требования мотивировал тем, что в соот...   \n2  \\r\\n\\r\\n\\t       \\tРешение по гражданскому делу\\r\\n      \\t\\n\\nГражданское дело № 2-546/2012 года          \\n                        \\nЗАОЧНОЕ РЕШЕНИЕ\\nИменем Российской Федерации\\n            28 ноября 2012 года город ГрязиИ.о. мирового судьи Грязинского судебного участка № 4 Липецкой области А.Г. Луговских, при секретаре Шипиловой Г.В.,рассмотрев в открытом судебном заседании гражданское дело по иску ООО «ГУК «Центр» к Шмыгалевой Вере Владимировне о взысканиизадолженности за жилое помещение и коммунальные услуги,\\nУ С Т А Н О В И Л:\\n            ООО «ГУК «Центр» обратилось в суд с иском ...   \n3  \\r\\n\\r\\n\\t       \\tРешение по административному делу\\r\\n      \\t\\n\\nДело № 5- 111 /2013 г. «96 уч.»\\n\\nПОСТАНОВЛЕНИЕ\\n\\nг. Красногорск Московской области                                                         «18» апреля 2013 г.\\n\\nМировой судья 96 судебного участка Красногорского судебного района Московской области Российской Федерации Ларионова Е.А.,\\nрассмотрев в открытом судебном заседании материалы дела об административном правонарушении, предусмотренном ст. 12.15 ч. 4 КоАП РФ, в отношении Солодкова Р.А., <ДАТА2> г.р., уроженца ... проживающего по адресу: <АДРЕС>,\\n\\nУСТАНОВИЛ:\\n\\nСо...   \n4  \\r\\n\\r\\n\\t       \\tРешение по уголовному делу\\r\\n      \\t\\n\\nдело № 1-110-04/2013                                                                            <ОБЕЗЛИЧЕНО>                                             \\nП О С Т А Н О В Л Е Н И Е\\nгор. Волгоград «18» февраля 2013г.\\nмировой судья судебного участка № 110 Волгоградской области (Тракторозаводский район гор. Волгограда) Коновалова С.А.с участием государственного обвинителя                        Бреусовой И.А.,\\nподсудимого Тасмаджиева Ю.С.,защитника                                                                                   ...   \n\n                                                                                                                                                                                                                                                                                                                label  \n0          [[1622, 1628, 'истица', 2], [140, 153, 'мировой судья', 2], [1751, 1760, 'ответчица', 2], [2778, 2791, 'представитель', 2], [4206, 4217, 'собственник', 2], [1257, 1260, 'ООО', 4], [860, 867, 'расходы', 9], [4224, 4229, 'бремя', 13], [2294, 2312, 'судебное заседание', 13], [3252, 3256, 'вред', 17]]  \n1                                                                                                                                                                                              [[416, 421, 'истец', 2], [141, 154, 'мировой судья', 2], [1239, 1252, 'задолженность', 9], [1419, 1426, 'расходы', 9]]  \n2  [[4964, 4969, 'истец', 2], [2081, 2094, 'мировой судья', 2], [1242, 1255, 'представитель', 2], [391, 394, 'ООО', 4], [6649, 6654, 'доход', 9], [1176, 1189, 'задолженность', 9], [6218, 6225, 'пошлина', 9], [3188, 3195, 'расходы', 9], [1785, 1797, 'рассмотрение', 13], [1275, 1293, 'судебное заседание', 13]]  \n3                                                                                                                       [[5242, 5250, 'личность', 2], [216, 229, 'мировой судья', 2], [5737, 5742, 'доход', 9], [2858, 2865, 'порядок', 13], [1039, 1054, 'ответственность', 17], [1023, 1037, 'правонарушение', 17]]  \n4                                                                                                                                                                                           [[265, 278, 'мировой судья', 2], [6447, 6457, 'подсудимый', 2], [7387, 7400, 'представитель', 2], [2382, 2385, 'ЗАО', 4]]  ",
      "text/html": "<div>\n<style scoped>\n    .dataframe tbody tr th:only-of-type {\n        vertical-align: middle;\n    }\n\n    .dataframe tbody tr th {\n        vertical-align: top;\n    }\n\n    .dataframe thead th {\n        text-align: right;\n    }\n</style>\n<table border=\"1\" class=\"dataframe\">\n  <thead>\n    <tr style=\"text-align: right;\">\n      <th></th>\n      <th>text</th>\n      <th>label</th>\n    </tr>\n  </thead>\n  <tbody>\n    <tr>\n      <th>0</th>\n      <td>\\r\\n\\r\\n\\t       \\tРешение по гражданскому делу\\r\\n      \\t\\n\\n    Дело № 2-442\\13 Р Е Ш Е Н И Е ИМЕНЕМ РОССИЙСКОЙ ФЕДЕРАЦИИ г.Воронеж 29.04.2013 года Мировой судья судебного участка № 1 Советского района г.Воронежа Марычева И.В., с участием истца Шелепаевой Т.Я., при секретаре Ушаковой Д.Ю., рассмотрев в открытом судебном заседании в помещении судебного участка по адресу г.Воронеж, ул.Героев Сибиряков-46, гражданское дело по иску Шелепаевой&lt;ФИО1&gt; к Подгорновой &lt;ФИО2&gt; о возмещении убытков, причиненных залитием квартиры, и взыскании судебных расходов,\\n\\n                   У С Т А Н О В И Л...</td>\n      <td>[[1622, 1628, 'истица', 2], [140, 153, 'мировой судья', 2], [1751, 1760, 'ответчица', 2], [2778, 2791, 'представитель', 2], [4206, 4217, 'собственник', 2], [1257, 1260, 'ООО', 4], [860, 867, 'расходы', 9], [4224, 4229, 'бремя', 13], [2294, 2312, 'судебное заседание', 13], [3252, 3256, 'вред', 17]]</td>\n    </tr>\n    <tr>\n      <th>1</th>\n      <td>\\r\\n\\r\\n\\t       \\tРешение по гражданскому делу\\r\\n      \\t\\n\\n\\nДело № 2-2445/13\\nО П Р Е Д Е Л Е Н И Е\\n\\nг. Петропавловск-Камчатский 28 марта 2013 года\\n\\nМировой судья судебного участка № 10 Камчатского края Видьма О.В., при секретаре Кокориной К.Ю., рассмотрев в открытом судебном заседании гражданское дело по иску ОАО «Камчатскэнерго» к Шариповой &lt;ФИО1&gt; о взыскании задолженности по оплате за коммунальные услуги,\\nУСТАНОВИЛ:\\n\\nИстец обратился к мировому судье с иском к ответчику о взыскании  задолженности по оплате за коммунальные услуги. Исковые требования мотивировал тем, что в соот...</td>\n      <td>[[416, 421, 'истец', 2], [141, 154, 'мировой судья', 2], [1239, 1252, 'задолженность', 9], [1419, 1426, 'расходы', 9]]</td>\n    </tr>\n    <tr>\n      <th>2</th>\n      <td>\\r\\n\\r\\n\\t       \\tРешение по гражданскому делу\\r\\n      \\t\\n\\nГражданское дело № 2-546/2012 года          \\n                        \\nЗАОЧНОЕ РЕШЕНИЕ\\nИменем Российской Федерации\\n            28 ноября 2012 года город ГрязиИ.о. мирового судьи Грязинского судебного участка № 4 Липецкой области А.Г. Луговских, при секретаре Шипиловой Г.В.,рассмотрев в открытом судебном заседании гражданское дело по иску ООО «ГУК «Центр» к Шмыгалевой Вере Владимировне о взысканиизадолженности за жилое помещение и коммунальные услуги,\\nУ С Т А Н О В И Л:\\n            ООО «ГУК «Центр» обратилось в суд с иском ...</td>\n      <td>[[4964, 4969, 'истец', 2], [2081, 2094, 'мировой судья', 2], [1242, 1255, 'представитель', 2], [391, 394, 'ООО', 4], [6649, 6654, 'доход', 9], [1176, 1189, 'задолженность', 9], [6218, 6225, 'пошлина', 9], [3188, 3195, 'расходы', 9], [1785, 1797, 'рассмотрение', 13], [1275, 1293, 'судебное заседание', 13]]</td>\n    </tr>\n    <tr>\n      <th>3</th>\n      <td>\\r\\n\\r\\n\\t       \\tРешение по административному делу\\r\\n      \\t\\n\\nДело № 5- 111 /2013 г. «96 уч.»\\n\\nПОСТАНОВЛЕНИЕ\\n\\nг. Красногорск Московской области                                                         «18» апреля 2013 г.\\n\\nМировой судья 96 судебного участка Красногорского судебного района Московской области Российской Федерации Ларионова Е.А.,\\nрассмотрев в открытом судебном заседании материалы дела об административном правонарушении, предусмотренном ст. 12.15 ч. 4 КоАП РФ, в отношении Солодкова Р.А., &lt;ДАТА2&gt; г.р., уроженца ... проживающего по адресу: &lt;АДРЕС&gt;,\\n\\nУСТАНОВИЛ:\\n\\nСо...</td>\n      <td>[[5242, 5250, 'личность', 2], [216, 229, 'мировой судья', 2], [5737, 5742, 'доход', 9], [2858, 2865, 'порядок', 13], [1039, 1054, 'ответственность', 17], [1023, 1037, 'правонарушение', 17]]</td>\n    </tr>\n    <tr>\n      <th>4</th>\n      <td>\\r\\n\\r\\n\\t       \\tРешение по уголовному делу\\r\\n      \\t\\n\\nдело № 1-110-04/2013                                                                            &lt;ОБЕЗЛИЧЕНО&gt;                                             \\nП О С Т А Н О В Л Е Н И Е\\nгор. Волгоград «18» февраля 2013г.\\nмировой судья судебного участка № 110 Волгоградской области (Тракторозаводский район гор. Волгограда) Коновалова С.А.с участием государственного обвинителя                        Бреусовой И.А.,\\nподсудимого Тасмаджиева Ю.С.,защитника                                                                                   ...</td>\n      <td>[[265, 278, 'мировой судья', 2], [6447, 6457, 'подсудимый', 2], [7387, 7400, 'представитель', 2], [2382, 2385, 'ЗАО', 4]]</td>\n    </tr>\n  </tbody>\n</table>\n</div>"
     },
     "execution_count": 22,
     "metadata": {},
     "output_type": "execute_result"
    }
   ],
   "source": [
    "file_path = \"./RuLegalNER/train.csv\"\n",
    "dataset = pd.read_csv(file_path)\n",
    "dataset.columns = ['text', 'label']\n",
    "dataset.head()"
   ],
   "metadata": {
    "collapsed": false,
    "ExecuteTime": {
     "end_time": "2024-02-08T20:34:25.950493Z",
     "start_time": "2024-02-08T20:34:18.573094Z"
    }
   },
   "id": "abc2700a06f3abc"
  },
  {
   "cell_type": "code",
   "execution_count": 20,
   "outputs": [
    {
     "data": {
      "text/plain": "<IPython.core.display.HTML object>",
      "text/html": "\n<style>\n    /* Turns off some styling */\n    progress {\n        /* gets rid of default border in Firefox and Opera. */\n        border: none;\n        /* Needs to be in here for Safari polyfill so background images work as expected. */\n        background-size: auto;\n    }\n    progress:not([value]), progress:not([value])::-webkit-progress-bar {\n        background: repeating-linear-gradient(45deg, #7e7e7e, #7e7e7e 10px, #5c5c5c 10px, #5c5c5c 20px);\n    }\n    .progress-bar-interrupted, .progress-bar-interrupted::-webkit-progress-bar {\n        background: #F44336;\n    }\n</style>\n"
     },
     "metadata": {},
     "output_type": "display_data"
    },
    {
     "data": {
      "text/plain": "<IPython.core.display.HTML object>",
      "text/html": "\n    <div>\n      <progress value='0' class='' max='73733' style='width:300px; height:20px; vertical-align: middle;'></progress>\n      \n    </div>\n    "
     },
     "metadata": {},
     "output_type": "display_data"
    }
   ],
   "source": [
    "dls = TextDataLoaders.from_df(dataset, text_col='text', label_col='label', is_lm=False, valid_pct=0.2, seed=42)"
   ],
   "metadata": {
    "collapsed": false,
    "ExecuteTime": {
     "end_time": "2024-02-06T16:08:45.266855Z",
     "start_time": "2024-02-06T16:05:21.007422Z"
    }
   },
   "id": "7fa3389cf9116123"
  },
  {
   "cell_type": "code",
   "execution_count": 21,
   "outputs": [
    {
     "data": {
      "text/plain": "<IPython.core.display.HTML object>",
      "text/html": "\n<style>\n    /* Turns off some styling */\n    progress {\n        /* gets rid of default border in Firefox and Opera. */\n        border: none;\n        /* Needs to be in here for Safari polyfill so background images work as expected. */\n        background-size: auto;\n    }\n    progress:not([value]), progress:not([value])::-webkit-progress-bar {\n        background: repeating-linear-gradient(45deg, #7e7e7e, #7e7e7e 10px, #5c5c5c 10px, #5c5c5c 20px);\n    }\n    .progress-bar-interrupted, .progress-bar-interrupted::-webkit-progress-bar {\n        background: #F44336;\n    }\n</style>\n"
     },
     "metadata": {},
     "output_type": "display_data"
    },
    {
     "data": {
      "text/plain": "<IPython.core.display.HTML object>",
      "text/html": "\n    <div>\n      <progress value='0' class='' max='105067061' style='width:300px; height:20px; vertical-align: middle;'></progress>\n      \n    </div>\n    "
     },
     "metadata": {},
     "output_type": "display_data"
    },
    {
     "data": {
      "text/plain": "<IPython.core.display.HTML object>",
      "text/html": "\n<style>\n    /* Turns off some styling */\n    progress {\n        /* gets rid of default border in Firefox and Opera. */\n        border: none;\n        /* Needs to be in here for Safari polyfill so background images work as expected. */\n        background-size: auto;\n    }\n    progress:not([value]), progress:not([value])::-webkit-progress-bar {\n        background: repeating-linear-gradient(45deg, #7e7e7e, #7e7e7e 10px, #5c5c5c 10px, #5c5c5c 20px);\n    }\n    .progress-bar-interrupted, .progress-bar-interrupted::-webkit-progress-bar {\n        background: #F44336;\n    }\n</style>\n"
     },
     "metadata": {},
     "output_type": "display_data"
    },
    {
     "data": {
      "text/plain": "<IPython.core.display.HTML object>",
      "text/html": "\n    <div>\n      <progress value='0' class='' max='1' style='width:300px; height:20px; vertical-align: middle;'></progress>\n      \n    </div>\n    \n"
     },
     "metadata": {},
     "output_type": "display_data"
    },
    {
     "name": "stderr",
     "output_type": "stream",
     "text": [
      "/Users/vdav/opt/anaconda3/envs/python3_11_5/lib/python3.11/site-packages/fastai/text/models/core.py:97: UserWarning: MPS: no support for int64 for sum_out_mps, downcasting to a smaller data type (int32/float32). Native support for int64 has been added in macOS 13.3. (Triggered internally at /Users/runner/work/pytorch/pytorch/pytorch/aten/src/ATen/native/mps/operations/ReduceOps.mm:155.)\n",
      "  real_bs = (input[:,i] != self.pad_idx).long().sum()\n"
     ]
    },
    {
     "ename": "KeyboardInterrupt",
     "evalue": "",
     "output_type": "error",
     "traceback": [
      "\u001B[0;31m---------------------------------------------------------------------------\u001B[0m",
      "\u001B[0;31mKeyboardInterrupt\u001B[0m                         Traceback (most recent call last)",
      "Cell \u001B[0;32mIn[21], line 2\u001B[0m\n\u001B[1;32m      1\u001B[0m learn \u001B[38;5;241m=\u001B[39m text_classifier_learner(dls, AWD_LSTM, drop_mult\u001B[38;5;241m=\u001B[39m\u001B[38;5;241m0.5\u001B[39m, metrics\u001B[38;5;241m=\u001B[39maccuracy)\n\u001B[0;32m----> 2\u001B[0m learn\u001B[38;5;241m.\u001B[39mfine_tune(\u001B[38;5;241m4\u001B[39m, \u001B[38;5;241m1e-2\u001B[39m)\n",
      "File \u001B[0;32m~/opt/anaconda3/envs/python3_11_5/lib/python3.11/site-packages/fastai/callback/schedule.py:165\u001B[0m, in \u001B[0;36mfine_tune\u001B[0;34m(self, epochs, base_lr, freeze_epochs, lr_mult, pct_start, div, **kwargs)\u001B[0m\n\u001B[1;32m    163\u001B[0m \u001B[38;5;124m\"\u001B[39m\u001B[38;5;124mFine tune with `Learner.freeze` for `freeze_epochs`, then with `Learner.unfreeze` for `epochs`, using discriminative LR.\u001B[39m\u001B[38;5;124m\"\u001B[39m\n\u001B[1;32m    164\u001B[0m \u001B[38;5;28mself\u001B[39m\u001B[38;5;241m.\u001B[39mfreeze()\n\u001B[0;32m--> 165\u001B[0m \u001B[38;5;28mself\u001B[39m\u001B[38;5;241m.\u001B[39mfit_one_cycle(freeze_epochs, \u001B[38;5;28mslice\u001B[39m(base_lr), pct_start\u001B[38;5;241m=\u001B[39m\u001B[38;5;241m0.99\u001B[39m, \u001B[38;5;241m*\u001B[39m\u001B[38;5;241m*\u001B[39mkwargs)\n\u001B[1;32m    166\u001B[0m base_lr \u001B[38;5;241m/\u001B[39m\u001B[38;5;241m=\u001B[39m \u001B[38;5;241m2\u001B[39m\n\u001B[1;32m    167\u001B[0m \u001B[38;5;28mself\u001B[39m\u001B[38;5;241m.\u001B[39munfreeze()\n",
      "File \u001B[0;32m~/opt/anaconda3/envs/python3_11_5/lib/python3.11/site-packages/fastai/callback/schedule.py:119\u001B[0m, in \u001B[0;36mfit_one_cycle\u001B[0;34m(self, n_epoch, lr_max, div, div_final, pct_start, wd, moms, cbs, reset_opt, start_epoch)\u001B[0m\n\u001B[1;32m    116\u001B[0m lr_max \u001B[38;5;241m=\u001B[39m np\u001B[38;5;241m.\u001B[39marray([h[\u001B[38;5;124m'\u001B[39m\u001B[38;5;124mlr\u001B[39m\u001B[38;5;124m'\u001B[39m] \u001B[38;5;28;01mfor\u001B[39;00m h \u001B[38;5;129;01min\u001B[39;00m \u001B[38;5;28mself\u001B[39m\u001B[38;5;241m.\u001B[39mopt\u001B[38;5;241m.\u001B[39mhypers])\n\u001B[1;32m    117\u001B[0m scheds \u001B[38;5;241m=\u001B[39m {\u001B[38;5;124m'\u001B[39m\u001B[38;5;124mlr\u001B[39m\u001B[38;5;124m'\u001B[39m: combined_cos(pct_start, lr_max\u001B[38;5;241m/\u001B[39mdiv, lr_max, lr_max\u001B[38;5;241m/\u001B[39mdiv_final),\n\u001B[1;32m    118\u001B[0m           \u001B[38;5;124m'\u001B[39m\u001B[38;5;124mmom\u001B[39m\u001B[38;5;124m'\u001B[39m: combined_cos(pct_start, \u001B[38;5;241m*\u001B[39m(\u001B[38;5;28mself\u001B[39m\u001B[38;5;241m.\u001B[39mmoms \u001B[38;5;28;01mif\u001B[39;00m moms \u001B[38;5;129;01mis\u001B[39;00m \u001B[38;5;28;01mNone\u001B[39;00m \u001B[38;5;28;01melse\u001B[39;00m moms))}\n\u001B[0;32m--> 119\u001B[0m \u001B[38;5;28mself\u001B[39m\u001B[38;5;241m.\u001B[39mfit(n_epoch, cbs\u001B[38;5;241m=\u001B[39mParamScheduler(scheds)\u001B[38;5;241m+\u001B[39mL(cbs), reset_opt\u001B[38;5;241m=\u001B[39mreset_opt, wd\u001B[38;5;241m=\u001B[39mwd, start_epoch\u001B[38;5;241m=\u001B[39mstart_epoch)\n",
      "File \u001B[0;32m~/opt/anaconda3/envs/python3_11_5/lib/python3.11/site-packages/fastai/learner.py:264\u001B[0m, in \u001B[0;36mLearner.fit\u001B[0;34m(self, n_epoch, lr, wd, cbs, reset_opt, start_epoch)\u001B[0m\n\u001B[1;32m    262\u001B[0m \u001B[38;5;28mself\u001B[39m\u001B[38;5;241m.\u001B[39mopt\u001B[38;5;241m.\u001B[39mset_hypers(lr\u001B[38;5;241m=\u001B[39m\u001B[38;5;28mself\u001B[39m\u001B[38;5;241m.\u001B[39mlr \u001B[38;5;28;01mif\u001B[39;00m lr \u001B[38;5;129;01mis\u001B[39;00m \u001B[38;5;28;01mNone\u001B[39;00m \u001B[38;5;28;01melse\u001B[39;00m lr)\n\u001B[1;32m    263\u001B[0m \u001B[38;5;28mself\u001B[39m\u001B[38;5;241m.\u001B[39mn_epoch \u001B[38;5;241m=\u001B[39m n_epoch\n\u001B[0;32m--> 264\u001B[0m \u001B[38;5;28mself\u001B[39m\u001B[38;5;241m.\u001B[39m_with_events(\u001B[38;5;28mself\u001B[39m\u001B[38;5;241m.\u001B[39m_do_fit, \u001B[38;5;124m'\u001B[39m\u001B[38;5;124mfit\u001B[39m\u001B[38;5;124m'\u001B[39m, CancelFitException, \u001B[38;5;28mself\u001B[39m\u001B[38;5;241m.\u001B[39m_end_cleanup)\n",
      "File \u001B[0;32m~/opt/anaconda3/envs/python3_11_5/lib/python3.11/site-packages/fastai/learner.py:199\u001B[0m, in \u001B[0;36mLearner._with_events\u001B[0;34m(self, f, event_type, ex, final)\u001B[0m\n\u001B[1;32m    198\u001B[0m \u001B[38;5;28;01mdef\u001B[39;00m \u001B[38;5;21m_with_events\u001B[39m(\u001B[38;5;28mself\u001B[39m, f, event_type, ex, final\u001B[38;5;241m=\u001B[39mnoop):\n\u001B[0;32m--> 199\u001B[0m     \u001B[38;5;28;01mtry\u001B[39;00m: \u001B[38;5;28mself\u001B[39m(\u001B[38;5;124mf\u001B[39m\u001B[38;5;124m'\u001B[39m\u001B[38;5;124mbefore_\u001B[39m\u001B[38;5;132;01m{\u001B[39;00mevent_type\u001B[38;5;132;01m}\u001B[39;00m\u001B[38;5;124m'\u001B[39m);  f()\n\u001B[1;32m    200\u001B[0m     \u001B[38;5;28;01mexcept\u001B[39;00m ex: \u001B[38;5;28mself\u001B[39m(\u001B[38;5;124mf\u001B[39m\u001B[38;5;124m'\u001B[39m\u001B[38;5;124mafter_cancel_\u001B[39m\u001B[38;5;132;01m{\u001B[39;00mevent_type\u001B[38;5;132;01m}\u001B[39;00m\u001B[38;5;124m'\u001B[39m)\n\u001B[1;32m    201\u001B[0m     \u001B[38;5;28mself\u001B[39m(\u001B[38;5;124mf\u001B[39m\u001B[38;5;124m'\u001B[39m\u001B[38;5;124mafter_\u001B[39m\u001B[38;5;132;01m{\u001B[39;00mevent_type\u001B[38;5;132;01m}\u001B[39;00m\u001B[38;5;124m'\u001B[39m);  final()\n",
      "File \u001B[0;32m~/opt/anaconda3/envs/python3_11_5/lib/python3.11/site-packages/fastai/learner.py:253\u001B[0m, in \u001B[0;36mLearner._do_fit\u001B[0;34m(self)\u001B[0m\n\u001B[1;32m    251\u001B[0m \u001B[38;5;28;01mfor\u001B[39;00m epoch \u001B[38;5;129;01min\u001B[39;00m \u001B[38;5;28mrange\u001B[39m(\u001B[38;5;28mself\u001B[39m\u001B[38;5;241m.\u001B[39mn_epoch):\n\u001B[1;32m    252\u001B[0m     \u001B[38;5;28mself\u001B[39m\u001B[38;5;241m.\u001B[39mepoch\u001B[38;5;241m=\u001B[39mepoch\n\u001B[0;32m--> 253\u001B[0m     \u001B[38;5;28mself\u001B[39m\u001B[38;5;241m.\u001B[39m_with_events(\u001B[38;5;28mself\u001B[39m\u001B[38;5;241m.\u001B[39m_do_epoch, \u001B[38;5;124m'\u001B[39m\u001B[38;5;124mepoch\u001B[39m\u001B[38;5;124m'\u001B[39m, CancelEpochException)\n",
      "File \u001B[0;32m~/opt/anaconda3/envs/python3_11_5/lib/python3.11/site-packages/fastai/learner.py:199\u001B[0m, in \u001B[0;36mLearner._with_events\u001B[0;34m(self, f, event_type, ex, final)\u001B[0m\n\u001B[1;32m    198\u001B[0m \u001B[38;5;28;01mdef\u001B[39;00m \u001B[38;5;21m_with_events\u001B[39m(\u001B[38;5;28mself\u001B[39m, f, event_type, ex, final\u001B[38;5;241m=\u001B[39mnoop):\n\u001B[0;32m--> 199\u001B[0m     \u001B[38;5;28;01mtry\u001B[39;00m: \u001B[38;5;28mself\u001B[39m(\u001B[38;5;124mf\u001B[39m\u001B[38;5;124m'\u001B[39m\u001B[38;5;124mbefore_\u001B[39m\u001B[38;5;132;01m{\u001B[39;00mevent_type\u001B[38;5;132;01m}\u001B[39;00m\u001B[38;5;124m'\u001B[39m);  f()\n\u001B[1;32m    200\u001B[0m     \u001B[38;5;28;01mexcept\u001B[39;00m ex: \u001B[38;5;28mself\u001B[39m(\u001B[38;5;124mf\u001B[39m\u001B[38;5;124m'\u001B[39m\u001B[38;5;124mafter_cancel_\u001B[39m\u001B[38;5;132;01m{\u001B[39;00mevent_type\u001B[38;5;132;01m}\u001B[39;00m\u001B[38;5;124m'\u001B[39m)\n\u001B[1;32m    201\u001B[0m     \u001B[38;5;28mself\u001B[39m(\u001B[38;5;124mf\u001B[39m\u001B[38;5;124m'\u001B[39m\u001B[38;5;124mafter_\u001B[39m\u001B[38;5;132;01m{\u001B[39;00mevent_type\u001B[38;5;132;01m}\u001B[39;00m\u001B[38;5;124m'\u001B[39m);  final()\n",
      "File \u001B[0;32m~/opt/anaconda3/envs/python3_11_5/lib/python3.11/site-packages/fastai/learner.py:247\u001B[0m, in \u001B[0;36mLearner._do_epoch\u001B[0;34m(self)\u001B[0m\n\u001B[1;32m    246\u001B[0m \u001B[38;5;28;01mdef\u001B[39;00m \u001B[38;5;21m_do_epoch\u001B[39m(\u001B[38;5;28mself\u001B[39m):\n\u001B[0;32m--> 247\u001B[0m     \u001B[38;5;28mself\u001B[39m\u001B[38;5;241m.\u001B[39m_do_epoch_train()\n\u001B[1;32m    248\u001B[0m     \u001B[38;5;28mself\u001B[39m\u001B[38;5;241m.\u001B[39m_do_epoch_validate()\n",
      "File \u001B[0;32m~/opt/anaconda3/envs/python3_11_5/lib/python3.11/site-packages/fastai/learner.py:239\u001B[0m, in \u001B[0;36mLearner._do_epoch_train\u001B[0;34m(self)\u001B[0m\n\u001B[1;32m    237\u001B[0m \u001B[38;5;28;01mdef\u001B[39;00m \u001B[38;5;21m_do_epoch_train\u001B[39m(\u001B[38;5;28mself\u001B[39m):\n\u001B[1;32m    238\u001B[0m     \u001B[38;5;28mself\u001B[39m\u001B[38;5;241m.\u001B[39mdl \u001B[38;5;241m=\u001B[39m \u001B[38;5;28mself\u001B[39m\u001B[38;5;241m.\u001B[39mdls\u001B[38;5;241m.\u001B[39mtrain\n\u001B[0;32m--> 239\u001B[0m     \u001B[38;5;28mself\u001B[39m\u001B[38;5;241m.\u001B[39m_with_events(\u001B[38;5;28mself\u001B[39m\u001B[38;5;241m.\u001B[39mall_batches, \u001B[38;5;124m'\u001B[39m\u001B[38;5;124mtrain\u001B[39m\u001B[38;5;124m'\u001B[39m, CancelTrainException)\n",
      "File \u001B[0;32m~/opt/anaconda3/envs/python3_11_5/lib/python3.11/site-packages/fastai/learner.py:199\u001B[0m, in \u001B[0;36mLearner._with_events\u001B[0;34m(self, f, event_type, ex, final)\u001B[0m\n\u001B[1;32m    198\u001B[0m \u001B[38;5;28;01mdef\u001B[39;00m \u001B[38;5;21m_with_events\u001B[39m(\u001B[38;5;28mself\u001B[39m, f, event_type, ex, final\u001B[38;5;241m=\u001B[39mnoop):\n\u001B[0;32m--> 199\u001B[0m     \u001B[38;5;28;01mtry\u001B[39;00m: \u001B[38;5;28mself\u001B[39m(\u001B[38;5;124mf\u001B[39m\u001B[38;5;124m'\u001B[39m\u001B[38;5;124mbefore_\u001B[39m\u001B[38;5;132;01m{\u001B[39;00mevent_type\u001B[38;5;132;01m}\u001B[39;00m\u001B[38;5;124m'\u001B[39m);  f()\n\u001B[1;32m    200\u001B[0m     \u001B[38;5;28;01mexcept\u001B[39;00m ex: \u001B[38;5;28mself\u001B[39m(\u001B[38;5;124mf\u001B[39m\u001B[38;5;124m'\u001B[39m\u001B[38;5;124mafter_cancel_\u001B[39m\u001B[38;5;132;01m{\u001B[39;00mevent_type\u001B[38;5;132;01m}\u001B[39;00m\u001B[38;5;124m'\u001B[39m)\n\u001B[1;32m    201\u001B[0m     \u001B[38;5;28mself\u001B[39m(\u001B[38;5;124mf\u001B[39m\u001B[38;5;124m'\u001B[39m\u001B[38;5;124mafter_\u001B[39m\u001B[38;5;132;01m{\u001B[39;00mevent_type\u001B[38;5;132;01m}\u001B[39;00m\u001B[38;5;124m'\u001B[39m);  final()\n",
      "File \u001B[0;32m~/opt/anaconda3/envs/python3_11_5/lib/python3.11/site-packages/fastai/learner.py:205\u001B[0m, in \u001B[0;36mLearner.all_batches\u001B[0;34m(self)\u001B[0m\n\u001B[1;32m    203\u001B[0m \u001B[38;5;28;01mdef\u001B[39;00m \u001B[38;5;21mall_batches\u001B[39m(\u001B[38;5;28mself\u001B[39m):\n\u001B[1;32m    204\u001B[0m     \u001B[38;5;28mself\u001B[39m\u001B[38;5;241m.\u001B[39mn_iter \u001B[38;5;241m=\u001B[39m \u001B[38;5;28mlen\u001B[39m(\u001B[38;5;28mself\u001B[39m\u001B[38;5;241m.\u001B[39mdl)\n\u001B[0;32m--> 205\u001B[0m     \u001B[38;5;28;01mfor\u001B[39;00m o \u001B[38;5;129;01min\u001B[39;00m \u001B[38;5;28menumerate\u001B[39m(\u001B[38;5;28mself\u001B[39m\u001B[38;5;241m.\u001B[39mdl): \u001B[38;5;28mself\u001B[39m\u001B[38;5;241m.\u001B[39mone_batch(\u001B[38;5;241m*\u001B[39mo)\n",
      "File \u001B[0;32m~/opt/anaconda3/envs/python3_11_5/lib/python3.11/site-packages/fastai/learner.py:235\u001B[0m, in \u001B[0;36mLearner.one_batch\u001B[0;34m(self, i, b)\u001B[0m\n\u001B[1;32m    233\u001B[0m b \u001B[38;5;241m=\u001B[39m \u001B[38;5;28mself\u001B[39m\u001B[38;5;241m.\u001B[39m_set_device(b)\n\u001B[1;32m    234\u001B[0m \u001B[38;5;28mself\u001B[39m\u001B[38;5;241m.\u001B[39m_split(b)\n\u001B[0;32m--> 235\u001B[0m \u001B[38;5;28mself\u001B[39m\u001B[38;5;241m.\u001B[39m_with_events(\u001B[38;5;28mself\u001B[39m\u001B[38;5;241m.\u001B[39m_do_one_batch, \u001B[38;5;124m'\u001B[39m\u001B[38;5;124mbatch\u001B[39m\u001B[38;5;124m'\u001B[39m, CancelBatchException)\n",
      "File \u001B[0;32m~/opt/anaconda3/envs/python3_11_5/lib/python3.11/site-packages/fastai/learner.py:199\u001B[0m, in \u001B[0;36mLearner._with_events\u001B[0;34m(self, f, event_type, ex, final)\u001B[0m\n\u001B[1;32m    198\u001B[0m \u001B[38;5;28;01mdef\u001B[39;00m \u001B[38;5;21m_with_events\u001B[39m(\u001B[38;5;28mself\u001B[39m, f, event_type, ex, final\u001B[38;5;241m=\u001B[39mnoop):\n\u001B[0;32m--> 199\u001B[0m     \u001B[38;5;28;01mtry\u001B[39;00m: \u001B[38;5;28mself\u001B[39m(\u001B[38;5;124mf\u001B[39m\u001B[38;5;124m'\u001B[39m\u001B[38;5;124mbefore_\u001B[39m\u001B[38;5;132;01m{\u001B[39;00mevent_type\u001B[38;5;132;01m}\u001B[39;00m\u001B[38;5;124m'\u001B[39m);  f()\n\u001B[1;32m    200\u001B[0m     \u001B[38;5;28;01mexcept\u001B[39;00m ex: \u001B[38;5;28mself\u001B[39m(\u001B[38;5;124mf\u001B[39m\u001B[38;5;124m'\u001B[39m\u001B[38;5;124mafter_cancel_\u001B[39m\u001B[38;5;132;01m{\u001B[39;00mevent_type\u001B[38;5;132;01m}\u001B[39;00m\u001B[38;5;124m'\u001B[39m)\n\u001B[1;32m    201\u001B[0m     \u001B[38;5;28mself\u001B[39m(\u001B[38;5;124mf\u001B[39m\u001B[38;5;124m'\u001B[39m\u001B[38;5;124mafter_\u001B[39m\u001B[38;5;132;01m{\u001B[39;00mevent_type\u001B[38;5;132;01m}\u001B[39;00m\u001B[38;5;124m'\u001B[39m);  final()\n",
      "File \u001B[0;32m~/opt/anaconda3/envs/python3_11_5/lib/python3.11/site-packages/fastai/learner.py:216\u001B[0m, in \u001B[0;36mLearner._do_one_batch\u001B[0;34m(self)\u001B[0m\n\u001B[1;32m    215\u001B[0m \u001B[38;5;28;01mdef\u001B[39;00m \u001B[38;5;21m_do_one_batch\u001B[39m(\u001B[38;5;28mself\u001B[39m):\n\u001B[0;32m--> 216\u001B[0m     \u001B[38;5;28mself\u001B[39m\u001B[38;5;241m.\u001B[39mpred \u001B[38;5;241m=\u001B[39m \u001B[38;5;28mself\u001B[39m\u001B[38;5;241m.\u001B[39mmodel(\u001B[38;5;241m*\u001B[39m\u001B[38;5;28mself\u001B[39m\u001B[38;5;241m.\u001B[39mxb)\n\u001B[1;32m    217\u001B[0m     \u001B[38;5;28mself\u001B[39m(\u001B[38;5;124m'\u001B[39m\u001B[38;5;124mafter_pred\u001B[39m\u001B[38;5;124m'\u001B[39m)\n\u001B[1;32m    218\u001B[0m     \u001B[38;5;28;01mif\u001B[39;00m \u001B[38;5;28mlen\u001B[39m(\u001B[38;5;28mself\u001B[39m\u001B[38;5;241m.\u001B[39myb):\n",
      "File \u001B[0;32m~/opt/anaconda3/envs/python3_11_5/lib/python3.11/site-packages/torch/nn/modules/module.py:1518\u001B[0m, in \u001B[0;36mModule._wrapped_call_impl\u001B[0;34m(self, *args, **kwargs)\u001B[0m\n\u001B[1;32m   1516\u001B[0m     \u001B[38;5;28;01mreturn\u001B[39;00m \u001B[38;5;28mself\u001B[39m\u001B[38;5;241m.\u001B[39m_compiled_call_impl(\u001B[38;5;241m*\u001B[39margs, \u001B[38;5;241m*\u001B[39m\u001B[38;5;241m*\u001B[39mkwargs)  \u001B[38;5;66;03m# type: ignore[misc]\u001B[39;00m\n\u001B[1;32m   1517\u001B[0m \u001B[38;5;28;01melse\u001B[39;00m:\n\u001B[0;32m-> 1518\u001B[0m     \u001B[38;5;28;01mreturn\u001B[39;00m \u001B[38;5;28mself\u001B[39m\u001B[38;5;241m.\u001B[39m_call_impl(\u001B[38;5;241m*\u001B[39margs, \u001B[38;5;241m*\u001B[39m\u001B[38;5;241m*\u001B[39mkwargs)\n",
      "File \u001B[0;32m~/opt/anaconda3/envs/python3_11_5/lib/python3.11/site-packages/torch/nn/modules/module.py:1527\u001B[0m, in \u001B[0;36mModule._call_impl\u001B[0;34m(self, *args, **kwargs)\u001B[0m\n\u001B[1;32m   1522\u001B[0m \u001B[38;5;66;03m# If we don't have any hooks, we want to skip the rest of the logic in\u001B[39;00m\n\u001B[1;32m   1523\u001B[0m \u001B[38;5;66;03m# this function, and just call forward.\u001B[39;00m\n\u001B[1;32m   1524\u001B[0m \u001B[38;5;28;01mif\u001B[39;00m \u001B[38;5;129;01mnot\u001B[39;00m (\u001B[38;5;28mself\u001B[39m\u001B[38;5;241m.\u001B[39m_backward_hooks \u001B[38;5;129;01mor\u001B[39;00m \u001B[38;5;28mself\u001B[39m\u001B[38;5;241m.\u001B[39m_backward_pre_hooks \u001B[38;5;129;01mor\u001B[39;00m \u001B[38;5;28mself\u001B[39m\u001B[38;5;241m.\u001B[39m_forward_hooks \u001B[38;5;129;01mor\u001B[39;00m \u001B[38;5;28mself\u001B[39m\u001B[38;5;241m.\u001B[39m_forward_pre_hooks\n\u001B[1;32m   1525\u001B[0m         \u001B[38;5;129;01mor\u001B[39;00m _global_backward_pre_hooks \u001B[38;5;129;01mor\u001B[39;00m _global_backward_hooks\n\u001B[1;32m   1526\u001B[0m         \u001B[38;5;129;01mor\u001B[39;00m _global_forward_hooks \u001B[38;5;129;01mor\u001B[39;00m _global_forward_pre_hooks):\n\u001B[0;32m-> 1527\u001B[0m     \u001B[38;5;28;01mreturn\u001B[39;00m forward_call(\u001B[38;5;241m*\u001B[39margs, \u001B[38;5;241m*\u001B[39m\u001B[38;5;241m*\u001B[39mkwargs)\n\u001B[1;32m   1529\u001B[0m \u001B[38;5;28;01mtry\u001B[39;00m:\n\u001B[1;32m   1530\u001B[0m     result \u001B[38;5;241m=\u001B[39m \u001B[38;5;28;01mNone\u001B[39;00m\n",
      "File \u001B[0;32m~/opt/anaconda3/envs/python3_11_5/lib/python3.11/site-packages/torch/nn/modules/container.py:215\u001B[0m, in \u001B[0;36mSequential.forward\u001B[0;34m(self, input)\u001B[0m\n\u001B[1;32m    213\u001B[0m \u001B[38;5;28;01mdef\u001B[39;00m \u001B[38;5;21mforward\u001B[39m(\u001B[38;5;28mself\u001B[39m, \u001B[38;5;28minput\u001B[39m):\n\u001B[1;32m    214\u001B[0m     \u001B[38;5;28;01mfor\u001B[39;00m module \u001B[38;5;129;01min\u001B[39;00m \u001B[38;5;28mself\u001B[39m:\n\u001B[0;32m--> 215\u001B[0m         \u001B[38;5;28minput\u001B[39m \u001B[38;5;241m=\u001B[39m module(\u001B[38;5;28minput\u001B[39m)\n\u001B[1;32m    216\u001B[0m     \u001B[38;5;28;01mreturn\u001B[39;00m \u001B[38;5;28minput\u001B[39m\n",
      "File \u001B[0;32m~/opt/anaconda3/envs/python3_11_5/lib/python3.11/site-packages/torch/nn/modules/module.py:1518\u001B[0m, in \u001B[0;36mModule._wrapped_call_impl\u001B[0;34m(self, *args, **kwargs)\u001B[0m\n\u001B[1;32m   1516\u001B[0m     \u001B[38;5;28;01mreturn\u001B[39;00m \u001B[38;5;28mself\u001B[39m\u001B[38;5;241m.\u001B[39m_compiled_call_impl(\u001B[38;5;241m*\u001B[39margs, \u001B[38;5;241m*\u001B[39m\u001B[38;5;241m*\u001B[39mkwargs)  \u001B[38;5;66;03m# type: ignore[misc]\u001B[39;00m\n\u001B[1;32m   1517\u001B[0m \u001B[38;5;28;01melse\u001B[39;00m:\n\u001B[0;32m-> 1518\u001B[0m     \u001B[38;5;28;01mreturn\u001B[39;00m \u001B[38;5;28mself\u001B[39m\u001B[38;5;241m.\u001B[39m_call_impl(\u001B[38;5;241m*\u001B[39margs, \u001B[38;5;241m*\u001B[39m\u001B[38;5;241m*\u001B[39mkwargs)\n",
      "File \u001B[0;32m~/opt/anaconda3/envs/python3_11_5/lib/python3.11/site-packages/torch/nn/modules/module.py:1527\u001B[0m, in \u001B[0;36mModule._call_impl\u001B[0;34m(self, *args, **kwargs)\u001B[0m\n\u001B[1;32m   1522\u001B[0m \u001B[38;5;66;03m# If we don't have any hooks, we want to skip the rest of the logic in\u001B[39;00m\n\u001B[1;32m   1523\u001B[0m \u001B[38;5;66;03m# this function, and just call forward.\u001B[39;00m\n\u001B[1;32m   1524\u001B[0m \u001B[38;5;28;01mif\u001B[39;00m \u001B[38;5;129;01mnot\u001B[39;00m (\u001B[38;5;28mself\u001B[39m\u001B[38;5;241m.\u001B[39m_backward_hooks \u001B[38;5;129;01mor\u001B[39;00m \u001B[38;5;28mself\u001B[39m\u001B[38;5;241m.\u001B[39m_backward_pre_hooks \u001B[38;5;129;01mor\u001B[39;00m \u001B[38;5;28mself\u001B[39m\u001B[38;5;241m.\u001B[39m_forward_hooks \u001B[38;5;129;01mor\u001B[39;00m \u001B[38;5;28mself\u001B[39m\u001B[38;5;241m.\u001B[39m_forward_pre_hooks\n\u001B[1;32m   1525\u001B[0m         \u001B[38;5;129;01mor\u001B[39;00m _global_backward_pre_hooks \u001B[38;5;129;01mor\u001B[39;00m _global_backward_hooks\n\u001B[1;32m   1526\u001B[0m         \u001B[38;5;129;01mor\u001B[39;00m _global_forward_hooks \u001B[38;5;129;01mor\u001B[39;00m _global_forward_pre_hooks):\n\u001B[0;32m-> 1527\u001B[0m     \u001B[38;5;28;01mreturn\u001B[39;00m forward_call(\u001B[38;5;241m*\u001B[39margs, \u001B[38;5;241m*\u001B[39m\u001B[38;5;241m*\u001B[39mkwargs)\n\u001B[1;32m   1529\u001B[0m \u001B[38;5;28;01mtry\u001B[39;00m:\n\u001B[1;32m   1530\u001B[0m     result \u001B[38;5;241m=\u001B[39m \u001B[38;5;28;01mNone\u001B[39;00m\n",
      "File \u001B[0;32m~/opt/anaconda3/envs/python3_11_5/lib/python3.11/site-packages/fastai/text/models/core.py:98\u001B[0m, in \u001B[0;36mSentenceEncoder.forward\u001B[0;34m(self, input)\u001B[0m\n\u001B[1;32m     95\u001B[0m \u001B[38;5;28;01mfor\u001B[39;00m i \u001B[38;5;129;01min\u001B[39;00m \u001B[38;5;28mrange\u001B[39m(\u001B[38;5;241m0\u001B[39m, sl, \u001B[38;5;28mself\u001B[39m\u001B[38;5;241m.\u001B[39mbptt):\n\u001B[1;32m     96\u001B[0m     \u001B[38;5;66;03m#Note: this expects that sequence really begins on a round multiple of bptt\u001B[39;00m\n\u001B[1;32m     97\u001B[0m     real_bs \u001B[38;5;241m=\u001B[39m (\u001B[38;5;28minput\u001B[39m[:,i] \u001B[38;5;241m!=\u001B[39m \u001B[38;5;28mself\u001B[39m\u001B[38;5;241m.\u001B[39mpad_idx)\u001B[38;5;241m.\u001B[39mlong()\u001B[38;5;241m.\u001B[39msum()\n\u001B[0;32m---> 98\u001B[0m     o \u001B[38;5;241m=\u001B[39m \u001B[38;5;28mself\u001B[39m\u001B[38;5;241m.\u001B[39mmodule(\u001B[38;5;28minput\u001B[39m[:real_bs,i: \u001B[38;5;28mmin\u001B[39m(i\u001B[38;5;241m+\u001B[39m\u001B[38;5;28mself\u001B[39m\u001B[38;5;241m.\u001B[39mbptt, sl)])\n\u001B[1;32m     99\u001B[0m     \u001B[38;5;28;01mif\u001B[39;00m \u001B[38;5;28mself\u001B[39m\u001B[38;5;241m.\u001B[39mmax_len \u001B[38;5;129;01mis\u001B[39;00m \u001B[38;5;28;01mNone\u001B[39;00m \u001B[38;5;129;01mor\u001B[39;00m sl\u001B[38;5;241m-\u001B[39mi \u001B[38;5;241m<\u001B[39m\u001B[38;5;241m=\u001B[39m \u001B[38;5;28mself\u001B[39m\u001B[38;5;241m.\u001B[39mmax_len:\n\u001B[1;32m    100\u001B[0m         outs\u001B[38;5;241m.\u001B[39mappend(o)\n",
      "File \u001B[0;32m~/opt/anaconda3/envs/python3_11_5/lib/python3.11/site-packages/torch/nn/modules/module.py:1514\u001B[0m, in \u001B[0;36mModule._wrapped_call_impl\u001B[0;34m(self, *args, **kwargs)\u001B[0m\n\u001B[1;32m   1511\u001B[0m             tracing_state\u001B[38;5;241m.\u001B[39mpop_scope()\n\u001B[1;32m   1512\u001B[0m     \u001B[38;5;28;01mreturn\u001B[39;00m result\n\u001B[0;32m-> 1514\u001B[0m \u001B[38;5;28;01mdef\u001B[39;00m \u001B[38;5;21m_wrapped_call_impl\u001B[39m(\u001B[38;5;28mself\u001B[39m, \u001B[38;5;241m*\u001B[39margs, \u001B[38;5;241m*\u001B[39m\u001B[38;5;241m*\u001B[39mkwargs):\n\u001B[1;32m   1515\u001B[0m     \u001B[38;5;28;01mif\u001B[39;00m \u001B[38;5;28mself\u001B[39m\u001B[38;5;241m.\u001B[39m_compiled_call_impl \u001B[38;5;129;01mis\u001B[39;00m \u001B[38;5;129;01mnot\u001B[39;00m \u001B[38;5;28;01mNone\u001B[39;00m:\n\u001B[1;32m   1516\u001B[0m         \u001B[38;5;28;01mreturn\u001B[39;00m \u001B[38;5;28mself\u001B[39m\u001B[38;5;241m.\u001B[39m_compiled_call_impl(\u001B[38;5;241m*\u001B[39margs, \u001B[38;5;241m*\u001B[39m\u001B[38;5;241m*\u001B[39mkwargs)  \u001B[38;5;66;03m# type: ignore[misc]\u001B[39;00m\n",
      "\u001B[0;31mKeyboardInterrupt\u001B[0m: "
     ]
    }
   ],
   "source": [
    "learn = text_classifier_learner(dls, AWD_LSTM, drop_mult=0.5, metrics=accuracy)\n",
    "learn.fine_tune(4, 1e-2)"
   ],
   "metadata": {
    "collapsed": false,
    "ExecuteTime": {
     "end_time": "2024-02-06T16:19:22.630071Z",
     "start_time": "2024-02-06T16:09:15.262577Z"
    }
   },
   "id": "f413570b2b3e1b26"
  },
  {
   "cell_type": "code",
   "execution_count": null,
   "outputs": [],
   "source": [
    "validation_df = pd.read_csv(\"./RuLegalNER/validation.csv\")\n",
    "validation_df.columns = ['text', 'label']\n",
    "validation_df.head()"
   ],
   "metadata": {
    "collapsed": false
   },
   "id": "431ffb28e2ad5ade"
  },
  {
   "cell_type": "code",
   "execution_count": null,
   "outputs": [],
   "source": [
    "val_dl = learn.dls.test_dl(validation_df, with_labels=True)\n",
    "result = learn.validate(dl=val_dl)\n",
    "print(f\"Validation loss: {result[0]}\")\n",
    "for metric, value in zip(learn.metrics, result[1:]):\n",
    "    print(f\"{metric.name}: {value}\")\n"
   ],
   "metadata": {
    "collapsed": false
   },
   "id": "e2fe5ba2459b08e4"
  }
 ],
 "metadata": {
  "kernelspec": {
   "display_name": "Python 3",
   "language": "python",
   "name": "python3"
  },
  "language_info": {
   "codemirror_mode": {
    "name": "ipython",
    "version": 2
   },
   "file_extension": ".py",
   "mimetype": "text/x-python",
   "name": "python",
   "nbconvert_exporter": "python",
   "pygments_lexer": "ipython2",
   "version": "2.7.6"
  }
 },
 "nbformat": 4,
 "nbformat_minor": 5
}
