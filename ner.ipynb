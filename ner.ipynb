{
 "cells": [
  {
   "cell_type": "code",
   "execution_count": 4,
   "id": "initial_id",
   "metadata": {
    "collapsed": true,
    "ExecuteTime": {
     "end_time": "2024-01-16T12:48:30.874225Z",
     "start_time": "2024-01-16T12:48:30.870509Z"
    }
   },
   "outputs": [
    {
     "name": "stdout",
     "output_type": "stream",
     "text": [
      "3.11.5 (main, Sep 11 2023, 08:31:25) [Clang 14.0.6 ]\n"
     ]
    }
   ],
   "source": [
    "import sys\n",
    "print(sys.version)"
   ]
  },
  {
   "cell_type": "code",
   "execution_count": 5,
   "outputs": [
    {
     "name": "stdout",
     "output_type": "stream",
     "text": [
      "\u001B[31mERROR: Could not find a version that satisfies the requirement torch_nightly (from versions: none)\u001B[0m\u001B[31m\r\n",
      "\u001B[0m\u001B[31mERROR: No matching distribution found for torch_nightly\u001B[0m\u001B[31m\r\n",
      "\u001B[0mRequirement already satisfied: fastai in /Users/vdav/opt/anaconda3/envs/python3_11_5/lib/python3.11/site-packages (2.7.13)\r\n",
      "Requirement already satisfied: pip in /Users/vdav/opt/anaconda3/envs/python3_11_5/lib/python3.11/site-packages (from fastai) (23.3.1)\r\n",
      "Requirement already satisfied: packaging in /Users/vdav/opt/anaconda3/envs/python3_11_5/lib/python3.11/site-packages (from fastai) (23.1)\r\n",
      "Requirement already satisfied: fastdownload<2,>=0.0.5 in /Users/vdav/opt/anaconda3/envs/python3_11_5/lib/python3.11/site-packages (from fastai) (0.0.7)\r\n",
      "Requirement already satisfied: fastcore<1.6,>=1.5.29 in /Users/vdav/opt/anaconda3/envs/python3_11_5/lib/python3.11/site-packages (from fastai) (1.5.29)\r\n",
      "Requirement already satisfied: torchvision>=0.11 in /Users/vdav/opt/anaconda3/envs/python3_11_5/lib/python3.11/site-packages (from fastai) (0.16.2)\r\n",
      "Requirement already satisfied: matplotlib in /Users/vdav/opt/anaconda3/envs/python3_11_5/lib/python3.11/site-packages (from fastai) (3.8.2)\r\n",
      "Requirement already satisfied: pandas in /Users/vdav/opt/anaconda3/envs/python3_11_5/lib/python3.11/site-packages (from fastai) (2.1.4)\r\n",
      "Requirement already satisfied: requests in /Users/vdav/opt/anaconda3/envs/python3_11_5/lib/python3.11/site-packages (from fastai) (2.31.0)\r\n",
      "Requirement already satisfied: pyyaml in /Users/vdav/opt/anaconda3/envs/python3_11_5/lib/python3.11/site-packages (from fastai) (6.0.1)\r\n",
      "Requirement already satisfied: fastprogress>=0.2.4 in /Users/vdav/opt/anaconda3/envs/python3_11_5/lib/python3.11/site-packages (from fastai) (1.0.3)\r\n",
      "Requirement already satisfied: pillow>=9.0.0 in /Users/vdav/opt/anaconda3/envs/python3_11_5/lib/python3.11/site-packages (from fastai) (10.1.0)\r\n",
      "Requirement already satisfied: scikit-learn in /Users/vdav/opt/anaconda3/envs/python3_11_5/lib/python3.11/site-packages (from fastai) (1.3.2)\r\n",
      "Requirement already satisfied: scipy in /Users/vdav/opt/anaconda3/envs/python3_11_5/lib/python3.11/site-packages (from fastai) (1.11.4)\r\n",
      "Requirement already satisfied: spacy<4 in /Users/vdav/opt/anaconda3/envs/python3_11_5/lib/python3.11/site-packages (from fastai) (3.7.2)\r\n",
      "Requirement already satisfied: torch<2.2,>=1.10 in /Users/vdav/opt/anaconda3/envs/python3_11_5/lib/python3.11/site-packages (from fastai) (2.1.2)\r\n",
      "Requirement already satisfied: spacy-legacy<3.1.0,>=3.0.11 in /Users/vdav/opt/anaconda3/envs/python3_11_5/lib/python3.11/site-packages (from spacy<4->fastai) (3.0.12)\r\n",
      "Requirement already satisfied: spacy-loggers<2.0.0,>=1.0.0 in /Users/vdav/opt/anaconda3/envs/python3_11_5/lib/python3.11/site-packages (from spacy<4->fastai) (1.0.5)\r\n",
      "Requirement already satisfied: murmurhash<1.1.0,>=0.28.0 in /Users/vdav/opt/anaconda3/envs/python3_11_5/lib/python3.11/site-packages (from spacy<4->fastai) (1.0.10)\r\n",
      "Requirement already satisfied: cymem<2.1.0,>=2.0.2 in /Users/vdav/opt/anaconda3/envs/python3_11_5/lib/python3.11/site-packages (from spacy<4->fastai) (2.0.8)\r\n",
      "Requirement already satisfied: preshed<3.1.0,>=3.0.2 in /Users/vdav/opt/anaconda3/envs/python3_11_5/lib/python3.11/site-packages (from spacy<4->fastai) (3.0.9)\r\n",
      "Requirement already satisfied: thinc<8.3.0,>=8.1.8 in /Users/vdav/opt/anaconda3/envs/python3_11_5/lib/python3.11/site-packages (from spacy<4->fastai) (8.2.2)\r\n",
      "Requirement already satisfied: wasabi<1.2.0,>=0.9.1 in /Users/vdav/opt/anaconda3/envs/python3_11_5/lib/python3.11/site-packages (from spacy<4->fastai) (1.1.2)\r\n",
      "Requirement already satisfied: srsly<3.0.0,>=2.4.3 in /Users/vdav/opt/anaconda3/envs/python3_11_5/lib/python3.11/site-packages (from spacy<4->fastai) (2.4.8)\r\n",
      "Requirement already satisfied: catalogue<2.1.0,>=2.0.6 in /Users/vdav/opt/anaconda3/envs/python3_11_5/lib/python3.11/site-packages (from spacy<4->fastai) (2.0.10)\r\n",
      "Requirement already satisfied: weasel<0.4.0,>=0.1.0 in /Users/vdav/opt/anaconda3/envs/python3_11_5/lib/python3.11/site-packages (from spacy<4->fastai) (0.3.4)\r\n",
      "Requirement already satisfied: typer<0.10.0,>=0.3.0 in /Users/vdav/opt/anaconda3/envs/python3_11_5/lib/python3.11/site-packages (from spacy<4->fastai) (0.9.0)\r\n",
      "Requirement already satisfied: smart-open<7.0.0,>=5.2.1 in /Users/vdav/opt/anaconda3/envs/python3_11_5/lib/python3.11/site-packages (from spacy<4->fastai) (6.4.0)\r\n",
      "Requirement already satisfied: tqdm<5.0.0,>=4.38.0 in /Users/vdav/opt/anaconda3/envs/python3_11_5/lib/python3.11/site-packages (from spacy<4->fastai) (4.66.1)\r\n",
      "Requirement already satisfied: pydantic!=1.8,!=1.8.1,<3.0.0,>=1.7.4 in /Users/vdav/opt/anaconda3/envs/python3_11_5/lib/python3.11/site-packages (from spacy<4->fastai) (2.5.3)\r\n",
      "Requirement already satisfied: jinja2 in /Users/vdav/opt/anaconda3/envs/python3_11_5/lib/python3.11/site-packages (from spacy<4->fastai) (3.1.2)\r\n",
      "Requirement already satisfied: setuptools in /Users/vdav/opt/anaconda3/envs/python3_11_5/lib/python3.11/site-packages (from spacy<4->fastai) (68.0.0)\r\n",
      "Requirement already satisfied: langcodes<4.0.0,>=3.2.0 in /Users/vdav/opt/anaconda3/envs/python3_11_5/lib/python3.11/site-packages (from spacy<4->fastai) (3.3.0)\r\n",
      "Requirement already satisfied: numpy>=1.19.0 in /Users/vdav/opt/anaconda3/envs/python3_11_5/lib/python3.11/site-packages (from spacy<4->fastai) (1.26.2)\r\n",
      "Requirement already satisfied: charset-normalizer<4,>=2 in /Users/vdav/opt/anaconda3/envs/python3_11_5/lib/python3.11/site-packages (from requests->fastai) (2.0.4)\r\n",
      "Requirement already satisfied: idna<4,>=2.5 in /Users/vdav/opt/anaconda3/envs/python3_11_5/lib/python3.11/site-packages (from requests->fastai) (3.4)\r\n",
      "Requirement already satisfied: urllib3<3,>=1.21.1 in /Users/vdav/opt/anaconda3/envs/python3_11_5/lib/python3.11/site-packages (from requests->fastai) (1.26.18)\r\n",
      "Requirement already satisfied: certifi>=2017.4.17 in /Users/vdav/opt/anaconda3/envs/python3_11_5/lib/python3.11/site-packages (from requests->fastai) (2023.11.17)\r\n",
      "Requirement already satisfied: filelock in /Users/vdav/opt/anaconda3/envs/python3_11_5/lib/python3.11/site-packages (from torch<2.2,>=1.10->fastai) (3.13.1)\r\n",
      "Requirement already satisfied: typing-extensions in /Users/vdav/opt/anaconda3/envs/python3_11_5/lib/python3.11/site-packages (from torch<2.2,>=1.10->fastai) (4.7.1)\r\n",
      "Requirement already satisfied: sympy in /Users/vdav/opt/anaconda3/envs/python3_11_5/lib/python3.11/site-packages (from torch<2.2,>=1.10->fastai) (1.12)\r\n",
      "Requirement already satisfied: networkx in /Users/vdav/opt/anaconda3/envs/python3_11_5/lib/python3.11/site-packages (from torch<2.2,>=1.10->fastai) (3.2.1)\r\n",
      "Requirement already satisfied: fsspec in /Users/vdav/opt/anaconda3/envs/python3_11_5/lib/python3.11/site-packages (from torch<2.2,>=1.10->fastai) (2023.12.2)\r\n",
      "Requirement already satisfied: contourpy>=1.0.1 in /Users/vdav/opt/anaconda3/envs/python3_11_5/lib/python3.11/site-packages (from matplotlib->fastai) (1.2.0)\r\n",
      "Requirement already satisfied: cycler>=0.10 in /Users/vdav/opt/anaconda3/envs/python3_11_5/lib/python3.11/site-packages (from matplotlib->fastai) (0.12.1)\r\n",
      "Requirement already satisfied: fonttools>=4.22.0 in /Users/vdav/opt/anaconda3/envs/python3_11_5/lib/python3.11/site-packages (from matplotlib->fastai) (4.46.0)\r\n",
      "Requirement already satisfied: kiwisolver>=1.3.1 in /Users/vdav/opt/anaconda3/envs/python3_11_5/lib/python3.11/site-packages (from matplotlib->fastai) (1.4.5)\r\n",
      "Requirement already satisfied: pyparsing>=2.3.1 in /Users/vdav/opt/anaconda3/envs/python3_11_5/lib/python3.11/site-packages (from matplotlib->fastai) (3.1.1)\r\n",
      "Requirement already satisfied: python-dateutil>=2.7 in /Users/vdav/opt/anaconda3/envs/python3_11_5/lib/python3.11/site-packages (from matplotlib->fastai) (2.8.2)\r\n",
      "Requirement already satisfied: pytz>=2020.1 in /Users/vdav/opt/anaconda3/envs/python3_11_5/lib/python3.11/site-packages (from pandas->fastai) (2023.3.post1)\r\n",
      "Requirement already satisfied: tzdata>=2022.1 in /Users/vdav/opt/anaconda3/envs/python3_11_5/lib/python3.11/site-packages (from pandas->fastai) (2023.4)\r\n",
      "Requirement already satisfied: joblib>=1.1.1 in /Users/vdav/opt/anaconda3/envs/python3_11_5/lib/python3.11/site-packages (from scikit-learn->fastai) (1.3.2)\r\n",
      "Requirement already satisfied: threadpoolctl>=2.0.0 in /Users/vdav/opt/anaconda3/envs/python3_11_5/lib/python3.11/site-packages (from scikit-learn->fastai) (3.2.0)\r\n",
      "Requirement already satisfied: annotated-types>=0.4.0 in /Users/vdav/opt/anaconda3/envs/python3_11_5/lib/python3.11/site-packages (from pydantic!=1.8,!=1.8.1,<3.0.0,>=1.7.4->spacy<4->fastai) (0.6.0)\r\n",
      "Requirement already satisfied: pydantic-core==2.14.6 in /Users/vdav/opt/anaconda3/envs/python3_11_5/lib/python3.11/site-packages (from pydantic!=1.8,!=1.8.1,<3.0.0,>=1.7.4->spacy<4->fastai) (2.14.6)\r\n",
      "Requirement already satisfied: six>=1.5 in /Users/vdav/opt/anaconda3/envs/python3_11_5/lib/python3.11/site-packages (from python-dateutil>=2.7->matplotlib->fastai) (1.16.0)\r\n",
      "Requirement already satisfied: blis<0.8.0,>=0.7.8 in /Users/vdav/opt/anaconda3/envs/python3_11_5/lib/python3.11/site-packages (from thinc<8.3.0,>=8.1.8->spacy<4->fastai) (0.7.11)\r\n",
      "Requirement already satisfied: confection<1.0.0,>=0.0.1 in /Users/vdav/opt/anaconda3/envs/python3_11_5/lib/python3.11/site-packages (from thinc<8.3.0,>=8.1.8->spacy<4->fastai) (0.1.4)\r\n",
      "Requirement already satisfied: click<9.0.0,>=7.1.1 in /Users/vdav/opt/anaconda3/envs/python3_11_5/lib/python3.11/site-packages (from typer<0.10.0,>=0.3.0->spacy<4->fastai) (8.1.7)\r\n",
      "Requirement already satisfied: cloudpathlib<0.17.0,>=0.7.0 in /Users/vdav/opt/anaconda3/envs/python3_11_5/lib/python3.11/site-packages (from weasel<0.4.0,>=0.1.0->spacy<4->fastai) (0.16.0)\r\n",
      "Requirement already satisfied: MarkupSafe>=2.0 in /Users/vdav/opt/anaconda3/envs/python3_11_5/lib/python3.11/site-packages (from jinja2->spacy<4->fastai) (2.1.1)\r\n",
      "Requirement already satisfied: mpmath>=0.19 in /Users/vdav/opt/anaconda3/envs/python3_11_5/lib/python3.11/site-packages (from sympy->torch<2.2,>=1.10->fastai) (1.3.0)\r\n"
     ]
    }
   ],
   "source": [
    "!pip install torch_nightly\n",
    "!pip install fastai"
   ],
   "metadata": {
    "collapsed": false,
    "ExecuteTime": {
     "end_time": "2024-01-16T12:48:34.492003Z",
     "start_time": "2024-01-16T12:48:32.159503Z"
    }
   },
   "id": "989a206518fe3d63"
  },
  {
   "cell_type": "code",
   "execution_count": 1,
   "outputs": [],
   "source": [
    "# import libraries\n",
    "import fastai\n",
    "from fastai import *\n",
    "from fastai.text import *\n",
    "import pandas as pd\n",
    "import numpy as np\n",
    "from functools import partial\n",
    "import io\n",
    "import os\n",
    "import json"
   ],
   "metadata": {
    "collapsed": false,
    "ExecuteTime": {
     "end_time": "2024-01-16T15:21:35.949144Z",
     "start_time": "2024-01-16T15:21:35.609978Z"
    }
   },
   "id": "d54d98a6c6479737"
  },
  {
   "cell_type": "code",
   "execution_count": 7,
   "outputs": [
    {
     "name": "stdout",
     "output_type": "stream",
     "text": [
      "   id  region instance                                        name  \\\n",
      "0   0       3    FIRST  Тункинский районный суд Республики Бурятия   \n",
      "1   1       3    FIRST  Тункинский районный суд Республики Бурятия   \n",
      "2   2       3    FIRST  Тункинский районный суд Республики Бурятия   \n",
      "3   3       3    FIRST  Тункинский районный суд Республики Бурятия   \n",
      "4   4       3    FIRST  Тункинский районный суд Республики Бурятия   \n",
      "\n",
      "   caseNumber   entryDate                                              names  \\\n",
      "0   1-53/2022  18.03.2022  БАШМАКОВ ДМИТРИЙ АЛЕКСАНДРОВИЧ - ст.105 ч.1 УК РФ   \n",
      "1  1-110/2022  30.06.2022  Ошоров Николай Георгиевич - ст. 30 ч.3, ст.105...   \n",
      "2  1-112/2023  06.09.2023        ОШОРОВ ЕВГЕНИЙ СЕРГЕЕВИЧ - ст.105 ч.1 УК РФ   \n",
      "3   1-20/2022  10.01.2022        ОШОРОВ ЕВГЕНИЙ СЕРГЕЕВИЧ - ст.105 ч.1 УК РФ   \n",
      "4   1-59/2022  28.03.2022       ЖИРНОВ ВЯЧЕСЛАВ БОРИСОВИЧ - ст.105 ч.1 УК РФ   \n",
      "\n",
      "                          judge  resultDate          decision     endDate  \\\n",
      "0  Харханова Мария Владимировна  20.04.2022  Вынесен ПРИГОВОР  16.06.2022   \n",
      "1  Харханова Мария Владимировна  18.07.2022  Вынесен ПРИГОВОР  29.07.2022   \n",
      "2  Харханова Мария Владимировна        None              None        None   \n",
      "3      Иданова Елена Евгеньевна  18.01.2022  Вынесен ПРИГОВОР  31.01.2022   \n",
      "4  Харханова Мария Владимировна  27.05.2022  Вынесен ПРИГОВОР  19.07.2022   \n",
      "\n",
      "                                                text  \n",
      "0  ПРИГОВОР\\nИМЕНЕМ РОССИЙСКОЙ ФЕДЕРАЦИИ\\nс. Кыре...  \n",
      "1  ПРИГОВОР\\nИМЕНЕМ РОССИЙСКОЙ ФЕДЕРАЦИИ\\nс. Кыре...  \n",
      "2                                               None  \n",
      "3  Дело №\\nПРИГОВОР\\nИМЕНЕМ РОССИЙСКОЙ ФЕДЕРАЦИИ\\...  \n",
      "4  ПРИГОВОР\\nИМЕНЕМ РОССИЙСКОЙ ФЕДЕРАЦИИ\\nс. Кыре...  \n"
     ]
    }
   ],
   "source": [
    "import json\n",
    "import pandas as pd\n",
    "\n",
    "data = []\n",
    "\n",
    "with open('105_first.json', 'r', encoding='utf-8') as file:\n",
    "    for line in file:\n",
    "        try:\n",
    "            # Преобразование каждой строки в JSON объект\n",
    "            json_obj = json.loads(line)\n",
    "            data.append(json_obj)\n",
    "        except json.JSONDecodeError:\n",
    "            # Обработка случаев, когда строка не является допустимым JSON объектом\n",
    "            continue\n",
    "\n",
    "# Создание DataFrame из списка JSON объектов\n",
    "dataframe = pd.DataFrame(data)\n",
    "\n",
    "# Вывод первых нескольких строк DataFrame для проверки\n",
    "print(dataframe.head())"
   ],
   "metadata": {
    "collapsed": false,
    "ExecuteTime": {
     "end_time": "2024-01-16T15:52:27.015994Z",
     "start_time": "2024-01-16T15:52:26.584219Z"
    }
   },
   "id": "b2e1a9108d40fd44"
  },
  {
   "cell_type": "code",
   "execution_count": 10,
   "outputs": [
    {
     "data": {
      "text/plain": "(2855, 12)"
     },
     "execution_count": 10,
     "metadata": {},
     "output_type": "execute_result"
    }
   ],
   "source": [
    "# Проверяем корректность всех столбцов\n",
    "dataframe.columns"
   ],
   "metadata": {
    "collapsed": false,
    "ExecuteTime": {
     "end_time": "2024-01-16T16:00:02.848739Z",
     "start_time": "2024-01-16T16:00:02.813385Z"
    }
   },
   "id": "ce8def4967ea0d57"
  },
  {
   "cell_type": "code",
   "execution_count": 11,
   "outputs": [
    {
     "data": {
      "text/plain": "(2855, 12)"
     },
     "execution_count": 11,
     "metadata": {},
     "output_type": "execute_result"
    }
   ],
   "source": [
    "# Проверяем корректность датасета\n",
    "dataframe.shape"
   ],
   "metadata": {
    "collapsed": false,
    "ExecuteTime": {
     "end_time": "2024-01-16T16:00:33.166134Z",
     "start_time": "2024-01-16T16:00:33.156347Z"
    }
   },
   "id": "ff903a8952d8b8a7"
  },
  {
   "cell_type": "code",
   "execution_count": null,
   "outputs": [],
   "source": [],
   "metadata": {
    "collapsed": false
   },
   "id": "bccbbc097c62077c"
  }
 ],
 "metadata": {
  "kernelspec": {
   "display_name": "Python 3",
   "language": "python",
   "name": "python3"
  },
  "language_info": {
   "codemirror_mode": {
    "name": "ipython",
    "version": 2
   },
   "file_extension": ".py",
   "mimetype": "text/x-python",
   "name": "python",
   "nbconvert_exporter": "python",
   "pygments_lexer": "ipython2",
   "version": "2.7.6"
  }
 },
 "nbformat": 4,
 "nbformat_minor": 5
}
